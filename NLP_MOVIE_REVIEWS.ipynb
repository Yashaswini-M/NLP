{
 "cells": [
  {
   "cell_type": "code",
   "execution_count": null,
   "metadata": {},
   "outputs": [],
   "source": [
    "import nltk\n",
    "nltk.download(\"stopwords\")"
   ]
  },
  {
   "cell_type": "code",
   "execution_count": 19,
   "metadata": {},
   "outputs": [],
   "source": [
    "from nltk.corpus import stopwords\n",
    "import string\n",
    "import numpy as np\n",
    "from nltk.stem.porter import PorterStemmer"
   ]
  },
  {
   "cell_type": "code",
   "execution_count": 20,
   "metadata": {},
   "outputs": [],
   "source": [
    "def load_doc(filename):\n",
    "    file=open(filename,\"r\")\n",
    "    text=file.read()\n",
    "    file.close()\n",
    "    return text"
   ]
  },
  {
   "cell_type": "code",
   "execution_count": 21,
   "metadata": {},
   "outputs": [
    {
     "data": {
      "text/plain": [
       "'films adapted from comic books have had plenty of success , whether they\\'re about superheroes ( batman , superman , spawn ) , or geared toward kids ( casper ) or the arthouse crowd ( ghost world ) , but there\\'s never really been a comic book like from hell before . \\nfor starters , it was created by alan moore ( and eddie campbell ) , who brought the medium to a whole new level in the mid \\'80s with a 12-part series called the watchmen . \\nto say moore and campbell thoroughly researched the subject of jack the ripper would be like saying michael jackson is starting to look a little odd . \\nthe book ( or \" graphic novel , \" if you will ) is over 500 pages long and includes nearly 30 more that consist of nothing but footnotes . \\nin other words , don\\'t dismiss this film because of its source . \\nif you can get past the whole comic book thing , you might find another stumbling block in from hell\\'s directors , albert and allen hughes . \\ngetting the hughes brothers to direct this seems almost as ludicrous as casting carrot top in , well , anything , but riddle me this : who better to direct a film that\\'s set in the ghetto and features really violent street crime than the mad geniuses behind menace ii society ? \\nthe ghetto in question is , of course , whitechapel in 1888 london\\'s east end . \\nit\\'s a filthy , sooty place where the whores ( called \" unfortunates \" ) are starting to get a little nervous about this mysterious psychopath who has been carving through their profession with surgical precision . \\nwhen the first stiff turns up , copper peter godley ( robbie coltrane , the world is not enough ) calls in inspector frederick abberline ( johnny depp , blow ) to crack the case . \\nabberline , a widower , has prophetic dreams he unsuccessfully tries to quell with copious amounts of absinthe and opium . \\nupon arriving in whitechapel , he befriends an unfortunate named mary kelly ( heather graham , say it isn\\'t so ) and proceeds to investigate the horribly gruesome crimes that even the police surgeon can\\'t stomach . \\ni don\\'t think anyone needs to be briefed on jack the ripper , so i won\\'t go into the particulars here , other than to say moore and campbell have a unique and interesting theory about both the identity of the killer and the reasons he chooses to slay . \\nin the comic , they don\\'t bother cloaking the identity of the ripper , but screenwriters terry hayes ( vertical limit ) and rafael yglesias ( les mis ? rables ) do a good job of keeping him hidden from viewers until the very end . \\nit\\'s funny to watch the locals blindly point the finger of blame at jews and indians because , after all , an englishman could never be capable of committing such ghastly acts . \\nand from hell\\'s ending had me whistling the stonecutters song from the simpsons for days ( \" who holds back the electric car/who made steve guttenberg a star ? \" ) . \\ndon\\'t worry - it\\'ll all make sense when you see it . \\nnow onto from hell\\'s appearance : it\\'s certainly dark and bleak enough , and it\\'s surprising to see how much more it looks like a tim burton film than planet of the apes did ( at times , it seems like sleepy hollow 2 ) . \\nthe print i saw wasn\\'t completely finished ( both color and music had not been finalized , so no comments about marilyn manson ) , but cinematographer peter deming ( don\\'t say a word ) ably captures the dreariness of victorian-era london and helped make the flashy killing scenes remind me of the crazy flashbacks in twin peaks , even though the violence in the film pales in comparison to that in the black-and-white comic . \\noscar winner martin childs\\' ( shakespeare in love ) production design turns the original prague surroundings into one creepy place . \\neven the acting in from hell is solid , with the dreamy depp turning in a typically strong performance and deftly handling a british accent . \\nians holm ( joe gould\\'s secret ) and richardson ( 102 dalmatians ) log in great supporting roles , but the big surprise here is graham . \\ni cringed the first time she opened her mouth , imagining her attempt at an irish accent , but it actually wasn\\'t half bad . \\nthe film , however , is all good . \\n2 : 00 - r for strong violence/gore , sexuality , language and drug content \\n'"
      ]
     },
     "execution_count": 21,
     "metadata": {},
     "output_type": "execute_result"
    }
   ],
   "source": [
    "filename=\"txt_sentoken/pos/cv000_29590.txt\"\n",
    "text=load_doc(filename)\n",
    "text"
   ]
  },
  {
   "cell_type": "code",
   "execution_count": 22,
   "metadata": {},
   "outputs": [
    {
     "name": "stdout",
     "output_type": "stream",
     "text": [
      "['films', 'adapted', 'from', 'comic', 'books', 'have', 'had', 'plenty', 'of', 'success', ',', 'whether', \"they're\", 'about', 'superheroes', '(', 'batman', ',', 'superman', ',', 'spawn', ')', ',', 'or', 'geared', 'toward', 'kids', '(', 'casper', ')', 'or', 'the', 'arthouse', 'crowd', '(', 'ghost', 'world', ')', ',', 'but', \"there's\", 'never', 'really', 'been', 'a', 'comic', 'book', 'like', 'from', 'hell', 'before', '.', 'for', 'starters', ',', 'it', 'was', 'created', 'by', 'alan', 'moore', '(', 'and', 'eddie', 'campbell', ')', ',', 'who', 'brought', 'the', 'medium', 'to', 'a', 'whole', 'new', 'level', 'in', 'the', 'mid', \"'80s\", 'with', 'a', '12-part', 'series', 'called', 'the', 'watchmen', '.', 'to', 'say', 'moore', 'and', 'campbell', 'thoroughly', 'researched', 'the', 'subject', 'of', 'jack', 'the', 'ripper', 'would', 'be', 'like', 'saying', 'michael', 'jackson', 'is', 'starting', 'to', 'look', 'a', 'little', 'odd', '.', 'the', 'book', '(', 'or', '\"', 'graphic', 'novel', ',', '\"', 'if', 'you', 'will', ')', 'is', 'over', '500', 'pages', 'long', 'and', 'includes', 'nearly', '30', 'more', 'that', 'consist', 'of', 'nothing', 'but', 'footnotes', '.', 'in', 'other', 'words', ',', \"don't\", 'dismiss', 'this', 'film', 'because', 'of', 'its', 'source', '.', 'if', 'you', 'can', 'get', 'past', 'the', 'whole', 'comic', 'book', 'thing', ',', 'you', 'might', 'find', 'another', 'stumbling', 'block', 'in', 'from', \"hell's\", 'directors', ',', 'albert', 'and', 'allen', 'hughes', '.', 'getting', 'the', 'hughes', 'brothers', 'to', 'direct', 'this', 'seems', 'almost', 'as', 'ludicrous', 'as', 'casting', 'carrot', 'top', 'in', ',', 'well', ',', 'anything', ',', 'but', 'riddle', 'me', 'this', ':', 'who', 'better', 'to', 'direct', 'a', 'film', \"that's\", 'set', 'in', 'the', 'ghetto', 'and', 'features', 'really', 'violent', 'street', 'crime', 'than', 'the', 'mad', 'geniuses', 'behind', 'menace', 'ii', 'society', '?', 'the', 'ghetto', 'in', 'question', 'is', ',', 'of', 'course', ',', 'whitechapel', 'in', '1888', \"london's\", 'east', 'end', '.', \"it's\", 'a', 'filthy', ',', 'sooty', 'place', 'where', 'the', 'whores', '(', 'called', '\"', 'unfortunates', '\"', ')', 'are', 'starting', 'to', 'get', 'a', 'little', 'nervous', 'about', 'this', 'mysterious', 'psychopath', 'who', 'has', 'been', 'carving', 'through', 'their', 'profession', 'with', 'surgical', 'precision', '.', 'when', 'the', 'first', 'stiff', 'turns', 'up', ',', 'copper', 'peter', 'godley', '(', 'robbie', 'coltrane', ',', 'the', 'world', 'is', 'not', 'enough', ')', 'calls', 'in', 'inspector', 'frederick', 'abberline', '(', 'johnny', 'depp', ',', 'blow', ')', 'to', 'crack', 'the', 'case', '.', 'abberline', ',', 'a', 'widower', ',', 'has', 'prophetic', 'dreams', 'he', 'unsuccessfully', 'tries', 'to', 'quell', 'with', 'copious', 'amounts', 'of', 'absinthe', 'and', 'opium', '.', 'upon', 'arriving', 'in', 'whitechapel', ',', 'he', 'befriends', 'an', 'unfortunate', 'named', 'mary', 'kelly', '(', 'heather', 'graham', ',', 'say', 'it', \"isn't\", 'so', ')', 'and', 'proceeds', 'to', 'investigate', 'the', 'horribly', 'gruesome', 'crimes', 'that', 'even', 'the', 'police', 'surgeon', \"can't\", 'stomach', '.', 'i', \"don't\", 'think', 'anyone', 'needs', 'to', 'be', 'briefed', 'on', 'jack', 'the', 'ripper', ',', 'so', 'i', \"won't\", 'go', 'into', 'the', 'particulars', 'here', ',', 'other', 'than', 'to', 'say', 'moore', 'and', 'campbell', 'have', 'a', 'unique', 'and', 'interesting', 'theory', 'about', 'both', 'the', 'identity', 'of', 'the', 'killer', 'and', 'the', 'reasons', 'he', 'chooses', 'to', 'slay', '.', 'in', 'the', 'comic', ',', 'they', \"don't\", 'bother', 'cloaking', 'the', 'identity', 'of', 'the', 'ripper', ',', 'but', 'screenwriters', 'terry', 'hayes', '(', 'vertical', 'limit', ')', 'and', 'rafael', 'yglesias', '(', 'les', 'mis', '?', 'rables', ')', 'do', 'a', 'good', 'job', 'of', 'keeping', 'him', 'hidden', 'from', 'viewers', 'until', 'the', 'very', 'end', '.', \"it's\", 'funny', 'to', 'watch', 'the', 'locals', 'blindly', 'point', 'the', 'finger', 'of', 'blame', 'at', 'jews', 'and', 'indians', 'because', ',', 'after', 'all', ',', 'an', 'englishman', 'could', 'never', 'be', 'capable', 'of', 'committing', 'such', 'ghastly', 'acts', '.', 'and', 'from', \"hell's\", 'ending', 'had', 'me', 'whistling', 'the', 'stonecutters', 'song', 'from', 'the', 'simpsons', 'for', 'days', '(', '\"', 'who', 'holds', 'back', 'the', 'electric', 'car/who', 'made', 'steve', 'guttenberg', 'a', 'star', '?', '\"', ')', '.', \"don't\", 'worry', '-', \"it'll\", 'all', 'make', 'sense', 'when', 'you', 'see', 'it', '.', 'now', 'onto', 'from', \"hell's\", 'appearance', ':', \"it's\", 'certainly', 'dark', 'and', 'bleak', 'enough', ',', 'and', \"it's\", 'surprising', 'to', 'see', 'how', 'much', 'more', 'it', 'looks', 'like', 'a', 'tim', 'burton', 'film', 'than', 'planet', 'of', 'the', 'apes', 'did', '(', 'at', 'times', ',', 'it', 'seems', 'like', 'sleepy', 'hollow', '2', ')', '.', 'the', 'print', 'i', 'saw', \"wasn't\", 'completely', 'finished', '(', 'both', 'color', 'and', 'music', 'had', 'not', 'been', 'finalized', ',', 'so', 'no', 'comments', 'about', 'marilyn', 'manson', ')', ',', 'but', 'cinematographer', 'peter', 'deming', '(', \"don't\", 'say', 'a', 'word', ')', 'ably', 'captures', 'the', 'dreariness', 'of', 'victorian-era', 'london', 'and', 'helped', 'make', 'the', 'flashy', 'killing', 'scenes', 'remind', 'me', 'of', 'the', 'crazy', 'flashbacks', 'in', 'twin', 'peaks', ',', 'even', 'though', 'the', 'violence', 'in', 'the', 'film', 'pales', 'in', 'comparison', 'to', 'that', 'in', 'the', 'black-and-white', 'comic', '.', 'oscar', 'winner', 'martin', \"childs'\", '(', 'shakespeare', 'in', 'love', ')', 'production', 'design', 'turns', 'the', 'original', 'prague', 'surroundings', 'into', 'one', 'creepy', 'place', '.', 'even', 'the', 'acting', 'in', 'from', 'hell', 'is', 'solid', ',', 'with', 'the', 'dreamy', 'depp', 'turning', 'in', 'a', 'typically', 'strong', 'performance', 'and', 'deftly', 'handling', 'a', 'british', 'accent', '.', 'ians', 'holm', '(', 'joe', \"gould's\", 'secret', ')', 'and', 'richardson', '(', '102', 'dalmatians', ')', 'log', 'in', 'great', 'supporting', 'roles', ',', 'but', 'the', 'big', 'surprise', 'here', 'is', 'graham', '.', 'i', 'cringed', 'the', 'first', 'time', 'she', 'opened', 'her', 'mouth', ',', 'imagining', 'her', 'attempt', 'at', 'an', 'irish', 'accent', ',', 'but', 'it', 'actually', \"wasn't\", 'half', 'bad', '.', 'the', 'film', ',', 'however', ',', 'is', 'all', 'good', '.', '2', ':', '00', '-', 'r', 'for', 'strong', 'violence/gore', ',', 'sexuality', ',', 'language', 'and', 'drug', 'content']\n"
     ]
    }
   ],
   "source": [
    "doc=text[:]\n",
    "tokens=doc.split()\n",
    "print(tokens)"
   ]
  },
  {
   "cell_type": "code",
   "execution_count": 23,
   "metadata": {},
   "outputs": [
    {
     "data": {
      "text/plain": [
       "'!\"#$%&\\'()*+,-./:;<=>?@[\\\\]^_`{|}~'"
      ]
     },
     "execution_count": 23,
     "metadata": {},
     "output_type": "execute_result"
    }
   ],
   "source": [
    "string.punctuation"
   ]
  },
  {
   "cell_type": "code",
   "execution_count": 24,
   "metadata": {},
   "outputs": [
    {
     "name": "stdout",
     "output_type": "stream",
     "text": [
      "['films', 'adapted', 'from', 'comic', 'books', 'have', 'had', 'plenty', 'of', 'success', '', 'whether', 'theyre', 'about', 'superheroes', '', 'batman', '', 'superman', '', 'spawn', '', '', 'or', 'geared', 'toward', 'kids', '', 'casper', '', 'or', 'the', 'arthouse', 'crowd', '', 'ghost', 'world', '', '', 'but', 'theres', 'never', 'really', 'been', 'a', 'comic', 'book', 'like', 'from', 'hell', 'before', '', 'for', 'starters', '', 'it', 'was', 'created', 'by', 'alan', 'moore', '', 'and', 'eddie', 'campbell', '', '', 'who', 'brought', 'the', 'medium', 'to', 'a', 'whole', 'new', 'level', 'in', 'the', 'mid', '80s', 'with', 'a', '12part', 'series', 'called', 'the', 'watchmen', '', 'to', 'say', 'moore', 'and', 'campbell', 'thoroughly', 'researched', 'the', 'subject', 'of', 'jack', 'the', 'ripper', 'would', 'be', 'like', 'saying', 'michael', 'jackson', 'is', 'starting', 'to', 'look', 'a', 'little', 'odd', '', 'the', 'book', '', 'or', '', 'graphic', 'novel', '', '', 'if', 'you', 'will', '', 'is', 'over', '500', 'pages', 'long', 'and', 'includes', 'nearly', '30', 'more', 'that', 'consist', 'of', 'nothing', 'but', 'footnotes', '', 'in', 'other', 'words', '', 'dont', 'dismiss', 'this', 'film', 'because', 'of', 'its', 'source', '', 'if', 'you', 'can', 'get', 'past', 'the', 'whole', 'comic', 'book', 'thing', '', 'you', 'might', 'find', 'another', 'stumbling', 'block', 'in', 'from', 'hells', 'directors', '', 'albert', 'and', 'allen', 'hughes', '', 'getting', 'the', 'hughes', 'brothers', 'to', 'direct', 'this', 'seems', 'almost', 'as', 'ludicrous', 'as', 'casting', 'carrot', 'top', 'in', '', 'well', '', 'anything', '', 'but', 'riddle', 'me', 'this', '', 'who', 'better', 'to', 'direct', 'a', 'film', 'thats', 'set', 'in', 'the', 'ghetto', 'and', 'features', 'really', 'violent', 'street', 'crime', 'than', 'the', 'mad', 'geniuses', 'behind', 'menace', 'ii', 'society', '', 'the', 'ghetto', 'in', 'question', 'is', '', 'of', 'course', '', 'whitechapel', 'in', '1888', 'londons', 'east', 'end', '', 'its', 'a', 'filthy', '', 'sooty', 'place', 'where', 'the', 'whores', '', 'called', '', 'unfortunates', '', '', 'are', 'starting', 'to', 'get', 'a', 'little', 'nervous', 'about', 'this', 'mysterious', 'psychopath', 'who', 'has', 'been', 'carving', 'through', 'their', 'profession', 'with', 'surgical', 'precision', '', 'when', 'the', 'first', 'stiff', 'turns', 'up', '', 'copper', 'peter', 'godley', '', 'robbie', 'coltrane', '', 'the', 'world', 'is', 'not', 'enough', '', 'calls', 'in', 'inspector', 'frederick', 'abberline', '', 'johnny', 'depp', '', 'blow', '', 'to', 'crack', 'the', 'case', '', 'abberline', '', 'a', 'widower', '', 'has', 'prophetic', 'dreams', 'he', 'unsuccessfully', 'tries', 'to', 'quell', 'with', 'copious', 'amounts', 'of', 'absinthe', 'and', 'opium', '', 'upon', 'arriving', 'in', 'whitechapel', '', 'he', 'befriends', 'an', 'unfortunate', 'named', 'mary', 'kelly', '', 'heather', 'graham', '', 'say', 'it', 'isnt', 'so', '', 'and', 'proceeds', 'to', 'investigate', 'the', 'horribly', 'gruesome', 'crimes', 'that', 'even', 'the', 'police', 'surgeon', 'cant', 'stomach', '', 'i', 'dont', 'think', 'anyone', 'needs', 'to', 'be', 'briefed', 'on', 'jack', 'the', 'ripper', '', 'so', 'i', 'wont', 'go', 'into', 'the', 'particulars', 'here', '', 'other', 'than', 'to', 'say', 'moore', 'and', 'campbell', 'have', 'a', 'unique', 'and', 'interesting', 'theory', 'about', 'both', 'the', 'identity', 'of', 'the', 'killer', 'and', 'the', 'reasons', 'he', 'chooses', 'to', 'slay', '', 'in', 'the', 'comic', '', 'they', 'dont', 'bother', 'cloaking', 'the', 'identity', 'of', 'the', 'ripper', '', 'but', 'screenwriters', 'terry', 'hayes', '', 'vertical', 'limit', '', 'and', 'rafael', 'yglesias', '', 'les', 'mis', '', 'rables', '', 'do', 'a', 'good', 'job', 'of', 'keeping', 'him', 'hidden', 'from', 'viewers', 'until', 'the', 'very', 'end', '', 'its', 'funny', 'to', 'watch', 'the', 'locals', 'blindly', 'point', 'the', 'finger', 'of', 'blame', 'at', 'jews', 'and', 'indians', 'because', '', 'after', 'all', '', 'an', 'englishman', 'could', 'never', 'be', 'capable', 'of', 'committing', 'such', 'ghastly', 'acts', '', 'and', 'from', 'hells', 'ending', 'had', 'me', 'whistling', 'the', 'stonecutters', 'song', 'from', 'the', 'simpsons', 'for', 'days', '', '', 'who', 'holds', 'back', 'the', 'electric', 'carwho', 'made', 'steve', 'guttenberg', 'a', 'star', '', '', '', '', 'dont', 'worry', '', 'itll', 'all', 'make', 'sense', 'when', 'you', 'see', 'it', '', 'now', 'onto', 'from', 'hells', 'appearance', '', 'its', 'certainly', 'dark', 'and', 'bleak', 'enough', '', 'and', 'its', 'surprising', 'to', 'see', 'how', 'much', 'more', 'it', 'looks', 'like', 'a', 'tim', 'burton', 'film', 'than', 'planet', 'of', 'the', 'apes', 'did', '', 'at', 'times', '', 'it', 'seems', 'like', 'sleepy', 'hollow', '2', '', '', 'the', 'print', 'i', 'saw', 'wasnt', 'completely', 'finished', '', 'both', 'color', 'and', 'music', 'had', 'not', 'been', 'finalized', '', 'so', 'no', 'comments', 'about', 'marilyn', 'manson', '', '', 'but', 'cinematographer', 'peter', 'deming', '', 'dont', 'say', 'a', 'word', '', 'ably', 'captures', 'the', 'dreariness', 'of', 'victorianera', 'london', 'and', 'helped', 'make', 'the', 'flashy', 'killing', 'scenes', 'remind', 'me', 'of', 'the', 'crazy', 'flashbacks', 'in', 'twin', 'peaks', '', 'even', 'though', 'the', 'violence', 'in', 'the', 'film', 'pales', 'in', 'comparison', 'to', 'that', 'in', 'the', 'blackandwhite', 'comic', '', 'oscar', 'winner', 'martin', 'childs', '', 'shakespeare', 'in', 'love', '', 'production', 'design', 'turns', 'the', 'original', 'prague', 'surroundings', 'into', 'one', 'creepy', 'place', '', 'even', 'the', 'acting', 'in', 'from', 'hell', 'is', 'solid', '', 'with', 'the', 'dreamy', 'depp', 'turning', 'in', 'a', 'typically', 'strong', 'performance', 'and', 'deftly', 'handling', 'a', 'british', 'accent', '', 'ians', 'holm', '', 'joe', 'goulds', 'secret', '', 'and', 'richardson', '', '102', 'dalmatians', '', 'log', 'in', 'great', 'supporting', 'roles', '', 'but', 'the', 'big', 'surprise', 'here', 'is', 'graham', '', 'i', 'cringed', 'the', 'first', 'time', 'she', 'opened', 'her', 'mouth', '', 'imagining', 'her', 'attempt', 'at', 'an', 'irish', 'accent', '', 'but', 'it', 'actually', 'wasnt', 'half', 'bad', '', 'the', 'film', '', 'however', '', 'is', 'all', 'good', '', '2', '', '00', '', 'r', 'for', 'strong', 'violencegore', '', 'sexuality', '', 'language', 'and', 'drug', 'content']\n"
     ]
    }
   ],
   "source": [
    "table = str.maketrans(\"\",\"\",string.punctuation)\n",
    "tokens=[w.translate(table) for w in tokens]\n",
    "print(tokens)"
   ]
  },
  {
   "cell_type": "code",
   "execution_count": 25,
   "metadata": {},
   "outputs": [
    {
     "name": "stdout",
     "output_type": "stream",
     "text": [
      "['films', 'adapted', 'from', 'comic', 'books', 'have', 'had', 'plenty', 'of', 'success', 'whether', 'theyre', 'about', 'superheroes', 'batman', 'superman', 'spawn', 'or', 'geared', 'toward', 'kids', 'casper', 'or', 'the', 'arthouse', 'crowd', 'ghost', 'world', 'but', 'theres', 'never', 'really', 'been', 'a', 'comic', 'book', 'like', 'from', 'hell', 'before', 'for', 'starters', 'it', 'was', 'created', 'by', 'alan', 'moore', 'and', 'eddie', 'campbell', 'who', 'brought', 'the', 'medium', 'to', 'a', 'whole', 'new', 'level', 'in', 'the', 'mid', 'with', 'a', 'series', 'called', 'the', 'watchmen', 'to', 'say', 'moore', 'and', 'campbell', 'thoroughly', 'researched', 'the', 'subject', 'of', 'jack', 'the', 'ripper', 'would', 'be', 'like', 'saying', 'michael', 'jackson', 'is', 'starting', 'to', 'look', 'a', 'little', 'odd', 'the', 'book', 'or', 'graphic', 'novel', 'if', 'you', 'will', 'is', 'over', 'pages', 'long', 'and', 'includes', 'nearly', 'more', 'that', 'consist', 'of', 'nothing', 'but', 'footnotes', 'in', 'other', 'words', 'dont', 'dismiss', 'this', 'film', 'because', 'of', 'its', 'source', 'if', 'you', 'can', 'get', 'past', 'the', 'whole', 'comic', 'book', 'thing', 'you', 'might', 'find', 'another', 'stumbling', 'block', 'in', 'from', 'hells', 'directors', 'albert', 'and', 'allen', 'hughes', 'getting', 'the', 'hughes', 'brothers', 'to', 'direct', 'this', 'seems', 'almost', 'as', 'ludicrous', 'as', 'casting', 'carrot', 'top', 'in', 'well', 'anything', 'but', 'riddle', 'me', 'this', 'who', 'better', 'to', 'direct', 'a', 'film', 'thats', 'set', 'in', 'the', 'ghetto', 'and', 'features', 'really', 'violent', 'street', 'crime', 'than', 'the', 'mad', 'geniuses', 'behind', 'menace', 'ii', 'society', 'the', 'ghetto', 'in', 'question', 'is', 'of', 'course', 'whitechapel', 'in', 'londons', 'east', 'end', 'its', 'a', 'filthy', 'sooty', 'place', 'where', 'the', 'whores', 'called', 'unfortunates', 'are', 'starting', 'to', 'get', 'a', 'little', 'nervous', 'about', 'this', 'mysterious', 'psychopath', 'who', 'has', 'been', 'carving', 'through', 'their', 'profession', 'with', 'surgical', 'precision', 'when', 'the', 'first', 'stiff', 'turns', 'up', 'copper', 'peter', 'godley', 'robbie', 'coltrane', 'the', 'world', 'is', 'not', 'enough', 'calls', 'in', 'inspector', 'frederick', 'abberline', 'johnny', 'depp', 'blow', 'to', 'crack', 'the', 'case', 'abberline', 'a', 'widower', 'has', 'prophetic', 'dreams', 'he', 'unsuccessfully', 'tries', 'to', 'quell', 'with', 'copious', 'amounts', 'of', 'absinthe', 'and', 'opium', 'upon', 'arriving', 'in', 'whitechapel', 'he', 'befriends', 'an', 'unfortunate', 'named', 'mary', 'kelly', 'heather', 'graham', 'say', 'it', 'isnt', 'so', 'and', 'proceeds', 'to', 'investigate', 'the', 'horribly', 'gruesome', 'crimes', 'that', 'even', 'the', 'police', 'surgeon', 'cant', 'stomach', 'i', 'dont', 'think', 'anyone', 'needs', 'to', 'be', 'briefed', 'on', 'jack', 'the', 'ripper', 'so', 'i', 'wont', 'go', 'into', 'the', 'particulars', 'here', 'other', 'than', 'to', 'say', 'moore', 'and', 'campbell', 'have', 'a', 'unique', 'and', 'interesting', 'theory', 'about', 'both', 'the', 'identity', 'of', 'the', 'killer', 'and', 'the', 'reasons', 'he', 'chooses', 'to', 'slay', 'in', 'the', 'comic', 'they', 'dont', 'bother', 'cloaking', 'the', 'identity', 'of', 'the', 'ripper', 'but', 'screenwriters', 'terry', 'hayes', 'vertical', 'limit', 'and', 'rafael', 'yglesias', 'les', 'mis', 'rables', 'do', 'a', 'good', 'job', 'of', 'keeping', 'him', 'hidden', 'from', 'viewers', 'until', 'the', 'very', 'end', 'its', 'funny', 'to', 'watch', 'the', 'locals', 'blindly', 'point', 'the', 'finger', 'of', 'blame', 'at', 'jews', 'and', 'indians', 'because', 'after', 'all', 'an', 'englishman', 'could', 'never', 'be', 'capable', 'of', 'committing', 'such', 'ghastly', 'acts', 'and', 'from', 'hells', 'ending', 'had', 'me', 'whistling', 'the', 'stonecutters', 'song', 'from', 'the', 'simpsons', 'for', 'days', 'who', 'holds', 'back', 'the', 'electric', 'carwho', 'made', 'steve', 'guttenberg', 'a', 'star', 'dont', 'worry', 'itll', 'all', 'make', 'sense', 'when', 'you', 'see', 'it', 'now', 'onto', 'from', 'hells', 'appearance', 'its', 'certainly', 'dark', 'and', 'bleak', 'enough', 'and', 'its', 'surprising', 'to', 'see', 'how', 'much', 'more', 'it', 'looks', 'like', 'a', 'tim', 'burton', 'film', 'than', 'planet', 'of', 'the', 'apes', 'did', 'at', 'times', 'it', 'seems', 'like', 'sleepy', 'hollow', 'the', 'print', 'i', 'saw', 'wasnt', 'completely', 'finished', 'both', 'color', 'and', 'music', 'had', 'not', 'been', 'finalized', 'so', 'no', 'comments', 'about', 'marilyn', 'manson', 'but', 'cinematographer', 'peter', 'deming', 'dont', 'say', 'a', 'word', 'ably', 'captures', 'the', 'dreariness', 'of', 'victorianera', 'london', 'and', 'helped', 'make', 'the', 'flashy', 'killing', 'scenes', 'remind', 'me', 'of', 'the', 'crazy', 'flashbacks', 'in', 'twin', 'peaks', 'even', 'though', 'the', 'violence', 'in', 'the', 'film', 'pales', 'in', 'comparison', 'to', 'that', 'in', 'the', 'blackandwhite', 'comic', 'oscar', 'winner', 'martin', 'childs', 'shakespeare', 'in', 'love', 'production', 'design', 'turns', 'the', 'original', 'prague', 'surroundings', 'into', 'one', 'creepy', 'place', 'even', 'the', 'acting', 'in', 'from', 'hell', 'is', 'solid', 'with', 'the', 'dreamy', 'depp', 'turning', 'in', 'a', 'typically', 'strong', 'performance', 'and', 'deftly', 'handling', 'a', 'british', 'accent', 'ians', 'holm', 'joe', 'goulds', 'secret', 'and', 'richardson', 'dalmatians', 'log', 'in', 'great', 'supporting', 'roles', 'but', 'the', 'big', 'surprise', 'here', 'is', 'graham', 'i', 'cringed', 'the', 'first', 'time', 'she', 'opened', 'her', 'mouth', 'imagining', 'her', 'attempt', 'at', 'an', 'irish', 'accent', 'but', 'it', 'actually', 'wasnt', 'half', 'bad', 'the', 'film', 'however', 'is', 'all', 'good', 'r', 'for', 'strong', 'violencegore', 'sexuality', 'language', 'and', 'drug', 'content']\n"
     ]
    }
   ],
   "source": [
    "tokens=[word for word in tokens if word.isalpha()]\n",
    "print(tokens)"
   ]
  },
  {
   "cell_type": "code",
   "execution_count": 26,
   "metadata": {},
   "outputs": [
    {
     "name": "stdout",
     "output_type": "stream",
     "text": [
      "['i', 'me', 'my', 'myself', 'we', 'our', 'ours', 'ourselves', 'you', \"you're\", \"you've\", \"you'll\", \"you'd\", 'your', 'yours', 'yourself', 'yourselves', 'he', 'him', 'his', 'himself', 'she', \"she's\", 'her', 'hers', 'herself', 'it', \"it's\", 'its', 'itself', 'they', 'them', 'their', 'theirs', 'themselves', 'what', 'which', 'who', 'whom', 'this', 'that', \"that'll\", 'these', 'those', 'am', 'is', 'are', 'was', 'were', 'be', 'been', 'being', 'have', 'has', 'had', 'having', 'do', 'does', 'did', 'doing', 'a', 'an', 'the', 'and', 'but', 'if', 'or', 'because', 'as', 'until', 'while', 'of', 'at', 'by', 'for', 'with', 'about', 'against', 'between', 'into', 'through', 'during', 'before', 'after', 'above', 'below', 'to', 'from', 'up', 'down', 'in', 'out', 'on', 'off', 'over', 'under', 'again', 'further', 'then', 'once', 'here', 'there', 'when', 'where', 'why', 'how', 'all', 'any', 'both', 'each', 'few', 'more', 'most', 'other', 'some', 'such', 'no', 'nor', 'not', 'only', 'own', 'same', 'so', 'than', 'too', 'very', 's', 't', 'can', 'will', 'just', 'don', \"don't\", 'should', \"should've\", 'now', 'd', 'll', 'm', 'o', 're', 've', 'y', 'ain', 'aren', \"aren't\", 'couldn', \"couldn't\", 'didn', \"didn't\", 'doesn', \"doesn't\", 'hadn', \"hadn't\", 'hasn', \"hasn't\", 'haven', \"haven't\", 'isn', \"isn't\", 'ma', 'mightn', \"mightn't\", 'mustn', \"mustn't\", 'needn', \"needn't\", 'shan', \"shan't\", 'shouldn', \"shouldn't\", 'wasn', \"wasn't\", 'weren', \"weren't\", 'won', \"won't\", 'wouldn', \"wouldn't\"]\n"
     ]
    }
   ],
   "source": [
    "print(stopwords.words(\"english\"))"
   ]
  },
  {
   "cell_type": "code",
   "execution_count": 27,
   "metadata": {},
   "outputs": [
    {
     "name": "stdout",
     "output_type": "stream",
     "text": [
      "['i', 'me', 'my', 'myself', 'we', 'our', 'ours', 'ourselves', 'you', \"you're\", \"you've\", \"you'll\", \"you'd\", 'your', 'yours', 'yourself', 'yourselves', 'he', 'him', 'his', 'himself', 'she', \"she's\", 'her', 'hers', 'herself', 'it', \"it's\", 'its', 'itself', 'they', 'them', 'their', 'theirs', 'themselves', 'what', 'which', 'who', 'whom', 'this', 'that', \"that'll\", 'these', 'those', 'am', 'is', 'are', 'was', 'were', 'be', 'been', 'being', 'have', 'has', 'had', 'having', 'do', 'does', 'did', 'doing', 'a', 'an', 'the', 'and', 'but', 'if', 'or', 'because', 'as', 'until', 'while', 'of', 'at', 'by', 'for', 'with', 'about', 'against', 'between', 'into', 'through', 'during', 'before', 'after', 'above', 'below', 'to', 'from', 'up', 'down', 'in', 'out', 'on', 'off', 'over', 'under', 'again', 'further', 'then', 'once', 'here', 'there', 'when', 'where', 'why', 'how', 'all', 'any', 'both', 'each', 'few', 'more', 'most', 'other', 'some', 'such', 'no', 'nor', 'not', 'only', 'own', 'same', 'so', 'than', 'too', 'very', 's', 't', 'can', 'will', 'just', 'don', \"don't\", 'should', \"should've\", 'now', 'd', 'll', 'm', 'o', 're', 've', 'y', 'ain', 'aren', \"aren't\", 'couldn', \"couldn't\", 'didn', \"didn't\", 'doesn', \"doesn't\", 'hadn', \"hadn't\", 'hasn', \"hasn't\", 'haven', \"haven't\", 'isn', \"isn't\", 'ma', 'mightn', \"mightn't\", 'mustn', \"mustn't\", 'needn', \"needn't\", 'shan', \"shan't\", 'shouldn', \"shouldn't\", 'wasn', \"wasn't\", 'weren', \"weren't\", 'won', \"won't\", 'wouldn', \"wouldn't\"]\n"
     ]
    }
   ],
   "source": [
    "stop_words=(stopwords.words(\"english\"))\n",
    "print(stop_words)"
   ]
  },
  {
   "cell_type": "code",
   "execution_count": 28,
   "metadata": {},
   "outputs": [
    {
     "name": "stdout",
     "output_type": "stream",
     "text": [
      "['films', 'adapted', 'comic', 'books', 'plenty', 'success', 'whether', 'theyre', 'superheroes', 'batman', 'superman', 'spawn', 'geared', 'toward', 'kids', 'casper', 'arthouse', 'crowd', 'ghost', 'world', 'theres', 'never', 'really', 'comic', 'book', 'like', 'hell', 'starters', 'created', 'alan', 'moore', 'eddie', 'campbell', 'brought', 'medium', 'whole', 'new', 'level', 'mid', 'series', 'called', 'watchmen', 'say', 'moore', 'campbell', 'thoroughly', 'researched', 'subject', 'jack', 'ripper', 'would', 'like', 'saying', 'michael', 'jackson', 'starting', 'look', 'little', 'odd', 'book', 'graphic', 'novel', 'pages', 'long', 'includes', 'nearly', 'consist', 'nothing', 'footnotes', 'words', 'dont', 'dismiss', 'film', 'source', 'get', 'past', 'whole', 'comic', 'book', 'thing', 'might', 'find', 'another', 'stumbling', 'block', 'hells', 'directors', 'albert', 'allen', 'hughes', 'getting', 'hughes', 'brothers', 'direct', 'seems', 'almost', 'ludicrous', 'casting', 'carrot', 'top', 'well', 'anything', 'riddle', 'better', 'direct', 'film', 'thats', 'set', 'ghetto', 'features', 'really', 'violent', 'street', 'crime', 'mad', 'geniuses', 'behind', 'menace', 'ii', 'society', 'ghetto', 'question', 'course', 'whitechapel', 'londons', 'east', 'end', 'filthy', 'sooty', 'place', 'whores', 'called', 'unfortunates', 'starting', 'get', 'little', 'nervous', 'mysterious', 'psychopath', 'carving', 'profession', 'surgical', 'precision', 'first', 'stiff', 'turns', 'copper', 'peter', 'godley', 'robbie', 'coltrane', 'world', 'enough', 'calls', 'inspector', 'frederick', 'abberline', 'johnny', 'depp', 'blow', 'crack', 'case', 'abberline', 'widower', 'prophetic', 'dreams', 'unsuccessfully', 'tries', 'quell', 'copious', 'amounts', 'absinthe', 'opium', 'upon', 'arriving', 'whitechapel', 'befriends', 'unfortunate', 'named', 'mary', 'kelly', 'heather', 'graham', 'say', 'isnt', 'proceeds', 'investigate', 'horribly', 'gruesome', 'crimes', 'even', 'police', 'surgeon', 'cant', 'stomach', 'dont', 'think', 'anyone', 'needs', 'briefed', 'jack', 'ripper', 'wont', 'go', 'particulars', 'say', 'moore', 'campbell', 'unique', 'interesting', 'theory', 'identity', 'killer', 'reasons', 'chooses', 'slay', 'comic', 'dont', 'bother', 'cloaking', 'identity', 'ripper', 'screenwriters', 'terry', 'hayes', 'vertical', 'limit', 'rafael', 'yglesias', 'les', 'mis', 'rables', 'good', 'job', 'keeping', 'hidden', 'viewers', 'end', 'funny', 'watch', 'locals', 'blindly', 'point', 'finger', 'blame', 'jews', 'indians', 'englishman', 'could', 'never', 'capable', 'committing', 'ghastly', 'acts', 'hells', 'ending', 'whistling', 'stonecutters', 'song', 'simpsons', 'days', 'holds', 'back', 'electric', 'carwho', 'made', 'steve', 'guttenberg', 'star', 'dont', 'worry', 'itll', 'make', 'sense', 'see', 'onto', 'hells', 'appearance', 'certainly', 'dark', 'bleak', 'enough', 'surprising', 'see', 'much', 'looks', 'like', 'tim', 'burton', 'film', 'planet', 'apes', 'times', 'seems', 'like', 'sleepy', 'hollow', 'print', 'saw', 'wasnt', 'completely', 'finished', 'color', 'music', 'finalized', 'comments', 'marilyn', 'manson', 'cinematographer', 'peter', 'deming', 'dont', 'say', 'word', 'ably', 'captures', 'dreariness', 'victorianera', 'london', 'helped', 'make', 'flashy', 'killing', 'scenes', 'remind', 'crazy', 'flashbacks', 'twin', 'peaks', 'even', 'though', 'violence', 'film', 'pales', 'comparison', 'blackandwhite', 'comic', 'oscar', 'winner', 'martin', 'childs', 'shakespeare', 'love', 'production', 'design', 'turns', 'original', 'prague', 'surroundings', 'one', 'creepy', 'place', 'even', 'acting', 'hell', 'solid', 'dreamy', 'depp', 'turning', 'typically', 'strong', 'performance', 'deftly', 'handling', 'british', 'accent', 'ians', 'holm', 'joe', 'goulds', 'secret', 'richardson', 'dalmatians', 'log', 'great', 'supporting', 'roles', 'big', 'surprise', 'graham', 'cringed', 'first', 'time', 'opened', 'mouth', 'imagining', 'attempt', 'irish', 'accent', 'actually', 'wasnt', 'half', 'bad', 'film', 'however', 'good', 'r', 'strong', 'violencegore', 'sexuality', 'language', 'drug', 'content']\n"
     ]
    }
   ],
   "source": [
    "tokens=[word for word in tokens if not word in stop_words]\n",
    "print(tokens)"
   ]
  },
  {
   "cell_type": "code",
   "execution_count": 29,
   "metadata": {},
   "outputs": [
    {
     "name": "stdout",
     "output_type": "stream",
     "text": [
      "['film', 'adapt', 'comic', 'book', 'plenti', 'success', 'whether', 'theyr', 'superhero', 'batman', 'superman', 'spawn', 'gear', 'toward', 'kid', 'casper', 'arthous', 'crowd', 'ghost', 'world', 'there', 'never', 'realli', 'comic', 'book', 'like', 'hell', 'starter', 'creat', 'alan', 'moor', 'eddi', 'campbel', 'brought', 'medium', 'whole', 'new', 'level', 'mid', 'seri', 'call', 'watchmen', 'say', 'moor', 'campbel', 'thoroughli', 'research', 'subject', 'jack', 'ripper', 'would', 'like', 'say', 'michael', 'jackson', 'start', 'look', 'littl', 'odd', 'book', 'graphic', 'novel', 'page', 'long', 'includ', 'nearli', 'consist', 'noth', 'footnot', 'word', 'dont', 'dismiss', 'film', 'sourc', 'get', 'past', 'whole', 'comic', 'book', 'thing', 'might', 'find', 'anoth', 'stumbl', 'block', 'hell', 'director', 'albert', 'allen', 'hugh', 'get', 'hugh', 'brother', 'direct', 'seem', 'almost', 'ludicr', 'cast', 'carrot', 'top', 'well', 'anyth', 'riddl', 'better', 'direct', 'film', 'that', 'set', 'ghetto', 'featur', 'realli', 'violent', 'street', 'crime', 'mad', 'genius', 'behind', 'menac', 'ii', 'societi', 'ghetto', 'question', 'cours', 'whitechapel', 'london', 'east', 'end', 'filthi', 'sooti', 'place', 'whore', 'call', 'unfortun', 'start', 'get', 'littl', 'nervou', 'mysteri', 'psychopath', 'carv', 'profess', 'surgic', 'precis', 'first', 'stiff', 'turn', 'copper', 'peter', 'godley', 'robbi', 'coltran', 'world', 'enough', 'call', 'inspector', 'frederick', 'abberlin', 'johnni', 'depp', 'blow', 'crack', 'case', 'abberlin', 'widow', 'prophet', 'dream', 'unsuccess', 'tri', 'quell', 'copiou', 'amount', 'absinth', 'opium', 'upon', 'arriv', 'whitechapel', 'befriend', 'unfortun', 'name', 'mari', 'kelli', 'heather', 'graham', 'say', 'isnt', 'proce', 'investig', 'horribl', 'gruesom', 'crime', 'even', 'polic', 'surgeon', 'cant', 'stomach', 'dont', 'think', 'anyon', 'need', 'brief', 'jack', 'ripper', 'wont', 'go', 'particular', 'say', 'moor', 'campbel', 'uniqu', 'interest', 'theori', 'ident', 'killer', 'reason', 'choos', 'slay', 'comic', 'dont', 'bother', 'cloak', 'ident', 'ripper', 'screenwrit', 'terri', 'hay', 'vertic', 'limit', 'rafael', 'yglesia', 'le', 'mi', 'rabl', 'good', 'job', 'keep', 'hidden', 'viewer', 'end', 'funni', 'watch', 'local', 'blindli', 'point', 'finger', 'blame', 'jew', 'indian', 'englishman', 'could', 'never', 'capabl', 'commit', 'ghastli', 'act', 'hell', 'end', 'whistl', 'stonecutt', 'song', 'simpson', 'day', 'hold', 'back', 'electr', 'carwho', 'made', 'steve', 'guttenberg', 'star', 'dont', 'worri', 'itll', 'make', 'sens', 'see', 'onto', 'hell', 'appear', 'certainli', 'dark', 'bleak', 'enough', 'surpris', 'see', 'much', 'look', 'like', 'tim', 'burton', 'film', 'planet', 'ape', 'time', 'seem', 'like', 'sleepi', 'hollow', 'print', 'saw', 'wasnt', 'complet', 'finish', 'color', 'music', 'final', 'comment', 'marilyn', 'manson', 'cinematograph', 'peter', 'deme', 'dont', 'say', 'word', 'abli', 'captur', 'dreari', 'victorianera', 'london', 'help', 'make', 'flashi', 'kill', 'scene', 'remind', 'crazi', 'flashback', 'twin', 'peak', 'even', 'though', 'violenc', 'film', 'pale', 'comparison', 'blackandwhit', 'comic', 'oscar', 'winner', 'martin', 'child', 'shakespear', 'love', 'product', 'design', 'turn', 'origin', 'pragu', 'surround', 'one', 'creepi', 'place', 'even', 'act', 'hell', 'solid', 'dreami', 'depp', 'turn', 'typic', 'strong', 'perform', 'deftli', 'handl', 'british', 'accent', 'ian', 'holm', 'joe', 'gould', 'secret', 'richardson', 'dalmatian', 'log', 'great', 'support', 'role', 'big', 'surpris', 'graham', 'cring', 'first', 'time', 'open', 'mouth', 'imagin', 'attempt', 'irish', 'accent', 'actual', 'wasnt', 'half', 'bad', 'film', 'howev', 'good', 'r', 'strong', 'violencegor', 'sexual', 'languag', 'drug', 'content']\n"
     ]
    }
   ],
   "source": [
    "ps=PorterStemmer()\n",
    "tokens=[ps.stem(word) for word in tokens]\n",
    "print(tokens)"
   ]
  },
  {
   "cell_type": "code",
   "execution_count": 30,
   "metadata": {},
   "outputs": [
    {
     "name": "stdout",
     "output_type": "stream",
     "text": [
      "['film', 'adapt', 'comic', 'book', 'plenti', 'success', 'whether', 'theyr', 'superhero', 'batman', 'superman', 'spawn', 'gear', 'toward', 'kid', 'casper', 'arthous', 'crowd', 'ghost', 'world', 'there', 'never', 'realli', 'comic', 'book', 'like', 'hell', 'starter', 'creat', 'alan', 'moor', 'eddi', 'campbel', 'brought', 'medium', 'whole', 'new', 'level', 'mid', 'seri', 'call', 'watchmen', 'say', 'moor', 'campbel', 'thoroughli', 'research', 'subject', 'jack', 'ripper', 'would', 'like', 'say', 'michael', 'jackson', 'start', 'look', 'littl', 'odd', 'book', 'graphic', 'novel', 'page', 'long', 'includ', 'nearli', 'consist', 'noth', 'footnot', 'word', 'dont', 'dismiss', 'film', 'sourc', 'get', 'past', 'whole', 'comic', 'book', 'thing', 'might', 'find', 'anoth', 'stumbl', 'block', 'hell', 'director', 'albert', 'allen', 'hugh', 'get', 'hugh', 'brother', 'direct', 'seem', 'almost', 'ludicr', 'cast', 'carrot', 'top', 'well', 'anyth', 'riddl', 'better', 'direct', 'film', 'that', 'set', 'ghetto', 'featur', 'realli', 'violent', 'street', 'crime', 'mad', 'genius', 'behind', 'menac', 'ii', 'societi', 'ghetto', 'question', 'cours', 'whitechapel', 'london', 'east', 'end', 'filthi', 'sooti', 'place', 'whore', 'call', 'unfortun', 'start', 'get', 'littl', 'nervou', 'mysteri', 'psychopath', 'carv', 'profess', 'surgic', 'precis', 'first', 'stiff', 'turn', 'copper', 'peter', 'godley', 'robbi', 'coltran', 'world', 'enough', 'call', 'inspector', 'frederick', 'abberlin', 'johnni', 'depp', 'blow', 'crack', 'case', 'abberlin', 'widow', 'prophet', 'dream', 'unsuccess', 'tri', 'quell', 'copiou', 'amount', 'absinth', 'opium', 'upon', 'arriv', 'whitechapel', 'befriend', 'unfortun', 'name', 'mari', 'kelli', 'heather', 'graham', 'say', 'isnt', 'proce', 'investig', 'horribl', 'gruesom', 'crime', 'even', 'polic', 'surgeon', 'cant', 'stomach', 'dont', 'think', 'anyon', 'need', 'brief', 'jack', 'ripper', 'wont', 'go', 'particular', 'say', 'moor', 'campbel', 'uniqu', 'interest', 'theori', 'ident', 'killer', 'reason', 'choos', 'slay', 'comic', 'dont', 'bother', 'cloak', 'ident', 'ripper', 'screenwrit', 'terri', 'hay', 'vertic', 'limit', 'rafael', 'yglesia', 'le', 'mi', 'rabl', 'good', 'job', 'keep', 'hidden', 'viewer', 'end', 'funni', 'watch', 'local', 'blindli', 'point', 'finger', 'blame', 'jew', 'indian', 'englishman', 'could', 'never', 'capabl', 'commit', 'ghastli', 'act', 'hell', 'end', 'whistl', 'stonecutt', 'song', 'simpson', 'day', 'hold', 'back', 'electr', 'carwho', 'made', 'steve', 'guttenberg', 'star', 'dont', 'worri', 'itll', 'make', 'sens', 'see', 'onto', 'hell', 'appear', 'certainli', 'dark', 'bleak', 'enough', 'surpris', 'see', 'much', 'look', 'like', 'tim', 'burton', 'film', 'planet', 'ape', 'time', 'seem', 'like', 'sleepi', 'hollow', 'print', 'saw', 'wasnt', 'complet', 'finish', 'color', 'music', 'final', 'comment', 'marilyn', 'manson', 'cinematograph', 'peter', 'deme', 'dont', 'say', 'word', 'abli', 'captur', 'dreari', 'victorianera', 'london', 'help', 'make', 'flashi', 'kill', 'scene', 'remind', 'crazi', 'flashback', 'twin', 'peak', 'even', 'though', 'violenc', 'film', 'pale', 'comparison', 'blackandwhit', 'comic', 'oscar', 'winner', 'martin', 'child', 'shakespear', 'love', 'product', 'design', 'turn', 'origin', 'pragu', 'surround', 'one', 'creepi', 'place', 'even', 'act', 'hell', 'solid', 'dreami', 'depp', 'turn', 'typic', 'strong', 'perform', 'deftli', 'handl', 'british', 'accent', 'ian', 'holm', 'joe', 'gould', 'secret', 'richardson', 'dalmatian', 'log', 'great', 'support', 'role', 'big', 'surpris', 'graham', 'cring', 'first', 'time', 'open', 'mouth', 'imagin', 'attempt', 'irish', 'accent', 'actual', 'wasnt', 'half', 'bad', 'film', 'howev', 'good', 'strong', 'violencegor', 'sexual', 'languag', 'drug', 'content']\n"
     ]
    }
   ],
   "source": [
    "tokens=[word for word in tokens if len(word)>1]\n",
    "print(tokens)"
   ]
  },
  {
   "cell_type": "code",
   "execution_count": 31,
   "metadata": {},
   "outputs": [],
   "source": [
    "def clean_doc(doc):\n",
    "    # split into tokens by white space\n",
    "    tokens = doc.split()\n",
    "    # remove punctuation from each token\n",
    "    table = str.maketrans('', '', string.punctuation)\n",
    "    tokens = [w.translate(table) for w in tokens]\n",
    "    # remove remaining tokens that are not alphabetic\n",
    "    tokens = [word for word in tokens if word.isalpha()]\n",
    "    # filter out stop words\n",
    "    stop_words = set(stopwords.words('english'))\n",
    "    tokens = [w for w in tokens if not w in stop_words]\n",
    "    ps = PorterStemmer()\n",
    "    tokens = [ps.stem(word) for word in tokens]\n",
    "    # filter out short tokens\n",
    "    tokens = [word for word in tokens if len(word) > 1]\n",
    "    return tokens\n",
    "    "
   ]
  },
  {
   "cell_type": "code",
   "execution_count": null,
   "metadata": {},
   "outputs": [],
   "source": []
  }
 ],
 "metadata": {
  "kernelspec": {
   "display_name": "Python 3",
   "language": "python",
   "name": "python3"
  },
  "language_info": {
   "codemirror_mode": {
    "name": "ipython",
    "version": 3
   },
   "file_extension": ".py",
   "mimetype": "text/x-python",
   "name": "python",
   "nbconvert_exporter": "python",
   "pygments_lexer": "ipython3",
   "version": "3.6.5"
  }
 },
 "nbformat": 4,
 "nbformat_minor": 2
}
